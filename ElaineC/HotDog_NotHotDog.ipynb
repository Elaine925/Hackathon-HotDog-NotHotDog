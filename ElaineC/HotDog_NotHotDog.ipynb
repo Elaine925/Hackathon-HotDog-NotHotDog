{
  "nbformat": 4,
  "nbformat_minor": 0,
  "metadata": {
    "colab": {
      "provenance": []
    },
    "kernelspec": {
      "name": "python3",
      "display_name": "Python 3"
    },
    "language_info": {
      "name": "python"
    }
  },
  "cells": [
    {
      "cell_type": "code",
      "execution_count": null,
      "metadata": {
        "id": "8p5c1p1ppcay"
      },
      "outputs": [],
      "source": []
    }
  ]
}