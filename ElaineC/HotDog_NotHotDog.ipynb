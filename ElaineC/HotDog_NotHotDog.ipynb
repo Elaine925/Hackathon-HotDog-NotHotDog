{
 "cells": [
  {
   "cell_type": "code",
   "execution_count": 1,
   "metadata": {
    "id": "8p5c1p1ppcay"
   },
   "outputs": [],
   "source": [
    "import numpy as np\n",
    "import pandas as pd\n",
    "import matplotlib.pyplot as plt\n",
    "import os\n",
    "\n",
    "# Keras imports\n",
    "from tensorflow import keras\n",
    "from tensorflow.keras.preprocessing.image import ImageDataGenerator\n",
    "from tensorflow.keras.models import Sequential\n",
    "from tensorflow.keras.layers import Conv2D, MaxPooling2D, Flatten, Dense, Dropout, BatchNormalization\n",
    "from tensorflow.keras.layers import RandomFlip, RandomRotation, RandomZoom\n",
    "from tensorflow.keras.utils import image_dataset_from_directory"
   ]
  },
  {
   "cell_type": "code",
   "execution_count": null,
   "metadata": {
    "colab": {
     "base_uri": "https://localhost:8080/"
    },
    "id": "caPvVJiagJCX",
    "outputId": "79da5ec8-d7a5-4c88-bcbf-0aec53ec3a6c"
   },
   "outputs": [
    {
     "name": "stdout",
     "output_type": "stream",
     "text": [
      "Mounted at /content/drive\n"
     ]
    }
   ],
   "source": [
    "# from google.colab import drive\n",
    "# drive.mount('/content/drive')"
   ]
  },
  {
   "cell_type": "code",
   "execution_count": 11,
   "metadata": {
    "id": "ANQah6PeqNxk"
   },
   "outputs": [],
   "source": [
    "def load_train_data(dir):\n",
    "\n",
    "  datagen = ImageDataGenerator(rescale=1./255)\n",
    "  generator = datagen.flow_from_directory(\n",
    "      dir,\n",
    "      target_size=(224, 224),\n",
    "      seed = 123,\n",
    "      batch_size=32,\n",
    "      class_mode=\"binary\")\n",
    "  return generator\n"
   ]
  },
  {
   "cell_type": "code",
   "execution_count": 12,
   "metadata": {
    "colab": {
     "base_uri": "https://localhost:8080/"
    },
    "id": "0qsnRucHsolL",
    "outputId": "95e30595-7b4b-4c95-dbd3-fd8174d844aa"
   },
   "outputs": [
    {
     "name": "stdout",
     "output_type": "stream",
     "text": [
      "Found 4242 images belonging to 2 classes.\n"
     ]
    }
   ],
   "source": [
    "whole_dir = '../hotdog-nothotdog/'\n",
    "\n",
    "train_generator = load_train_data(whole_dir+'train')"
   ]
  },
  {
   "cell_type": "code",
   "execution_count": 13,
   "metadata": {
    "colab": {
     "base_uri": "https://localhost:8080/"
    },
    "id": "BzzTV6mAs-AB",
    "outputId": "6648a111-647a-49a3-f80c-945c6482a6f4"
   },
   "outputs": [
    {
     "data": {
      "text/plain": [
       "{'hotdog': 0, 'nothotdog': 1}"
      ]
     },
     "execution_count": 13,
     "metadata": {},
     "output_type": "execute_result"
    }
   ],
   "source": [
    "train_generator.class_indices"
   ]
  },
  {
   "cell_type": "code",
   "execution_count": 14,
   "metadata": {
    "id": "L1fJ9kMRCnlF"
   },
   "outputs": [],
   "source": [
    "# prompt: get an array for all images information from train_generato\n",
    "file_paths = train_generator.filepaths\n",
    "labels = train_generator.classes  # Assuming binary classification, 0 or 1\n",
    "\n",
    "# Create DataFrame\n",
    "data = {'file_path': file_paths, 'label': labels}\n",
    "train_df = pd.DataFrame(data)"
   ]
  },
  {
   "cell_type": "code",
   "execution_count": 15,
   "metadata": {
    "colab": {
     "base_uri": "https://localhost:8080/"
    },
    "id": "aNl7DviJMU-6",
    "outputId": "50e4580e-79a6-4262-bc76-0afb7791ddfc"
   },
   "outputs": [
    {
     "name": "stdout",
     "output_type": "stream",
     "text": [
      "Found 4242 files belonging to 2 classes.\n",
      "Using 3394 files for training.\n",
      "Found 4242 files belonging to 2 classes.\n",
      "Using 848 files for validation.\n"
     ]
    }
   ],
   "source": [
    "train_ds = image_dataset_from_directory(\n",
    "    '../hotdog-nothotdog/train',\n",
    "    labels='inferred',\n",
    "    label_mode='binary',\n",
    "    image_size=[224, 224],\n",
    "    interpolation='nearest',\n",
    "    batch_size=32,\n",
    "    subset = 'training',\n",
    "    seed=123,\n",
    "    validation_split=0.2,\n",
    "    shuffle=True,\n",
    ").map(lambda x,y: (x/255, y))\n",
    "\n",
    "\n",
    "valid_ds = image_dataset_from_directory(\n",
    "    '../hotdog-nothotdog/train',\n",
    "    labels='inferred',\n",
    "    label_mode='binary',\n",
    "    image_size=[224, 224],\n",
    "    interpolation='nearest',\n",
    "    batch_size=32,\n",
    "    subset = 'validation',\n",
    "    seed=123,\n",
    "    validation_split=0.2,\n",
    "    shuffle=True,\n",
    ").map(lambda x,y: (x/255, y))\n"
   ]
  },
  {
   "cell_type": "code",
   "execution_count": 8,
   "metadata": {
    "id": "lr7_kWtpVMcG"
   },
   "outputs": [
    {
     "name": "stderr",
     "output_type": "stream",
     "text": [
      "/opt/anaconda3/lib/python3.11/site-packages/keras/src/layers/preprocessing/tf_data_layer.py:18: UserWarning: Do not pass an `input_shape`/`input_dim` argument to a layer. When using Sequential models, prefer using an `Input(shape)` object as the first layer in the model instead.\n",
      "  super().__init__(**kwargs)\n"
     ]
    }
   ],
   "source": [
    "model = keras.models.Sequential([\n",
    "    RandomFlip('horizontal_and_vertical', input_shape=(224, 224, 3)),\n",
    "    RandomRotation(0.2),\n",
    "    RandomZoom(height_factor=(-0.2, 0.2), width_factor=(-0.2, 0.2)),\n",
    "    Conv2D(32, 3, activation='relu'),\n",
    "    MaxPooling2D(2),\n",
    "    Conv2D(32, 3, activation='relu'),\n",
    "    MaxPooling2D(2),\n",
    "    Flatten(),\n",
    "    Dense(16, activation='relu'),\n",
    "    Dropout(0.5),\n",
    "    Dense(1, activation='sigmoid')\n",
    "])\n",
    "\n",
    "model.compile(\n",
    "    loss='binary_crossentropy',\n",
    "    optimizer='rmsprop',\n",
    "    metrics=['acc']\n",
    ")"
   ]
  },
  {
   "cell_type": "code",
   "execution_count": 9,
   "metadata": {
    "colab": {
     "base_uri": "https://localhost:8080/"
    },
    "id": "nHL5wFm5CX0Y",
    "outputId": "7d91956b-4638-423b-e3b3-7e854281fe62"
   },
   "outputs": [
    {
     "name": "stdout",
     "output_type": "stream",
     "text": [
      "\u001b[1m107/107\u001b[0m \u001b[32m━━━━━━━━━━━━━━━━━━━━\u001b[0m\u001b[37m\u001b[0m \u001b[1m89s\u001b[0m 781ms/step - acc: 0.4965 - loss: 0.7821 - val_acc: 0.5094 - val_loss: 0.7303\n"
     ]
    }
   ],
   "source": [
    "hist = model.fit(train_ds, validation_data=valid_ds, epochs=1)"
   ]
  },
  {
   "cell_type": "code",
   "execution_count": 10,
   "metadata": {
    "id": "CXgychyFuWLf"
   },
   "outputs": [],
   "source": [
    "model.save('../Models/yc_model_k.keras')"
   ]
  },
  {
   "cell_type": "code",
   "execution_count": null,
   "metadata": {
    "id": "eKFfOzYkuNWM"
   },
   "outputs": [],
   "source": []
  },
  {
   "cell_type": "code",
   "execution_count": null,
   "metadata": {
    "colab": {
     "base_uri": "https://localhost:8080/",
     "height": 522
    },
    "id": "agJG_uyhPaOf",
    "outputId": "24d15869-8f69-4453-9582-30faaabfc718"
   },
   "outputs": [
    {
     "data": {
      "image/png": "[encoded data removed]",
      "text/plain": [
       "<Figure size 1200x600 with 1 Axes>"
      ]
     },
     "metadata": {},
     "output_type": "display_data"
    }
   ],
   "source": [
    "plt.figure(figsize=(12, 6))\n",
    "plt.plot(hist.history['loss'], c='navy', label='Training Loss')\n",
    "plt.plot(hist.history['val_loss'], c='skyblue', label='Validation Loss')\n",
    "plt.legend();"
   ]
  },
  {
   "cell_type": "code",
   "execution_count": null,
   "metadata": {
    "id": "P7r-4V3qRYI2"
   },
   "outputs": [],
   "source": [
    "model.save(\"/content/yc_model.keras\")"
   ]
  },
  {
   "cell_type": "code",
   "execution_count": null,
   "metadata": {
    "id": "9HASLFoXR7Ro"
   },
   "outputs": [],
   "source": [
    "model_json = model.to_json()\n",
    "\n",
    "# Save model architecture to a JSON file\n",
    "with open(\"/content/model_architecture.json\", \"w\") as json_file:\n",
    "    json_file.write(model_json)"
   ]
  },
  {
   "cell_type": "code",
   "execution_count": null,
   "metadata": {
    "id": "l7LhatfBaLIw"
   },
   "outputs": [],
   "source": [
    "import pickle"
   ]
  },
  {
   "cell_type": "code",
   "execution_count": null,
   "metadata": {
    "id": "25Hgm8gUZ4vw"
   },
   "outputs": [],
   "source": [
    "with open('/content/yc_model.pkl', 'wb') as f:\n",
    "    pickle.dump(model, f)"
   ]
  }
 ],
 "metadata": {
  "accelerator": "GPU",
  "colab": {
   "gpuType": "V100",
   "machine_shape": "hm",
   "provenance": []
  },
  "kernelspec": {
   "display_name": "Python 3 (ipykernel)",
   "language": "python",
   "name": "python3"
  },
  "language_info": {
   "codemirror_mode": {
    "name": "ipython",
    "version": 3
   },
   "file_extension": ".py",
   "mimetype": "text/x-python",
   "name": "python",
   "nbconvert_exporter": "python",
   "pygments_lexer": "ipython3",
   "version": "3.11.7"
  }
 },
 "nbformat": 4,
 "nbformat_minor": 4
}
