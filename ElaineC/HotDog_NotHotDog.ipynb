{
 "cells": [
  {
   "cell_type": "code",
   "execution_count": 74,
   "metadata": {
    "id": "8p5c1p1ppcay"
   },
   "outputs": [],
   "source": [
    "import numpy as np\n",
    "import pandas as pd\n",
    "import matplotlib.pyplot as plt\n",
    "import os\n",
    "\n",
    "# Keras imports\n",
    "from tensorflow import keras\n",
    "from tensorflow.keras.preprocessing.image import ImageDataGenerator\n",
    "from tensorflow.keras.models import Sequential\n",
    "from tensorflow.keras.layers import Conv2D, MaxPooling2D, Flatten, Dense, Dropout, BatchNormalization\n",
    "from tensorflow.keras.applications.vgg16 import VGG16\n",
    "from tensorflow.keras.layers import RandomFlip, RandomRotation, RandomZoom\n",
    "from tensorflow.keras.utils import image_dataset_from_directory\n",
    "from tensorflow.keras.callbacks import EarlyStopping\n",
    "from keras.layers import Input"
   ]
  },
  {
   "cell_type": "code",
   "execution_count": 47,
   "metadata": {
    "colab": {
     "base_uri": "https://localhost:8080/"
    },
    "id": "caPvVJiagJCX",
    "outputId": "79da5ec8-d7a5-4c88-bcbf-0aec53ec3a6c"
   },
   "outputs": [],
   "source": [
    "# from google.colab import drive\n",
    "# drive.mount('/content/drive')"
   ]
  },
  {
   "cell_type": "code",
   "execution_count": 48,
   "metadata": {
    "id": "ANQah6PeqNxk"
   },
   "outputs": [],
   "source": [
    "def load_train_data(dir):\n",
    "\n",
    "  datagen = ImageDataGenerator(rescale=1./255)\n",
    "  generator = datagen.flow_from_directory(\n",
    "      dir,\n",
    "      target_size=(224, 224),\n",
    "      seed = 123,\n",
    "      batch_size=32,\n",
    "      class_mode=\"binary\")\n",
    "  return generator\n"
   ]
  },
  {
   "cell_type": "code",
   "execution_count": 49,
   "metadata": {
    "colab": {
     "base_uri": "https://localhost:8080/"
    },
    "id": "0qsnRucHsolL",
    "outputId": "95e30595-7b4b-4c95-dbd3-fd8174d844aa"
   },
   "outputs": [
    {
     "name": "stdout",
     "output_type": "stream",
     "text": [
      "Found 4242 images belonging to 2 classes.\n"
     ]
    }
   ],
   "source": [
    "whole_dir = '../hotdog-nothotdog/'\n",
    "train_generator = load_train_data(whole_dir+'train')"
   ]
  },
  {
   "cell_type": "code",
   "execution_count": 50,
   "metadata": {
    "colab": {
     "base_uri": "https://localhost:8080/"
    },
    "id": "BzzTV6mAs-AB",
    "outputId": "6648a111-647a-49a3-f80c-945c6482a6f4"
   },
   "outputs": [
    {
     "data": {
      "text/plain": [
       "{'hotdog': 0, 'nothotdog': 1}"
      ]
     },
     "execution_count": 50,
     "metadata": {},
     "output_type": "execute_result"
    }
   ],
   "source": [
    "train_generator.class_indices"
   ]
  },
  {
   "cell_type": "code",
   "execution_count": 51,
   "metadata": {
    "id": "L1fJ9kMRCnlF"
   },
   "outputs": [],
   "source": [
    "# prompt: get an array for all images information from train_generato\n",
    "file_paths = train_generator.filepaths\n",
    "labels = train_generator.classes  # Assuming binary classification, 0 or 1\n",
    "\n",
    "# Create DataFrame\n",
    "data = {'file_path': file_paths, 'label': labels}\n",
    "train_df = pd.DataFrame(data)"
   ]
  },
  {
   "cell_type": "code",
   "execution_count": 52,
   "metadata": {},
   "outputs": [
    {
     "data": {
      "text/html": [
       "<div>\n",
       "<style scoped>\n",
       "    .dataframe tbody tr th:only-of-type {\n",
       "        vertical-align: middle;\n",
       "    }\n",
       "\n",
       "    .dataframe tbody tr th {\n",
       "        vertical-align: top;\n",
       "    }\n",
       "\n",
       "    .dataframe thead th {\n",
       "        text-align: right;\n",
       "    }\n",
       "</style>\n",
       "<table border=\"1\" class=\"dataframe\">\n",
       "  <thead>\n",
       "    <tr style=\"text-align: right;\">\n",
       "      <th></th>\n",
       "      <th>file_path</th>\n",
       "      <th>label</th>\n",
       "    </tr>\n",
       "  </thead>\n",
       "  <tbody>\n",
       "    <tr>\n",
       "      <th>0</th>\n",
       "      <td>../hotdog-nothotdog/train/hotdog/1.jpg</td>\n",
       "      <td>0</td>\n",
       "    </tr>\n",
       "    <tr>\n",
       "      <th>1</th>\n",
       "      <td>../hotdog-nothotdog/train/hotdog/10.jpg</td>\n",
       "      <td>0</td>\n",
       "    </tr>\n",
       "    <tr>\n",
       "      <th>2</th>\n",
       "      <td>../hotdog-nothotdog/train/hotdog/100.jpg</td>\n",
       "      <td>0</td>\n",
       "    </tr>\n",
       "    <tr>\n",
       "      <th>3</th>\n",
       "      <td>../hotdog-nothotdog/train/hotdog/1000.jpg</td>\n",
       "      <td>0</td>\n",
       "    </tr>\n",
       "    <tr>\n",
       "      <th>4</th>\n",
       "      <td>../hotdog-nothotdog/train/hotdog/1000288.jpg</td>\n",
       "      <td>0</td>\n",
       "    </tr>\n",
       "    <tr>\n",
       "      <th>...</th>\n",
       "      <td>...</td>\n",
       "      <td>...</td>\n",
       "    </tr>\n",
       "    <tr>\n",
       "      <th>4237</th>\n",
       "      <td>../hotdog-nothotdog/train/nothotdog/99136.jpg</td>\n",
       "      <td>1</td>\n",
       "    </tr>\n",
       "    <tr>\n",
       "      <th>4238</th>\n",
       "      <td>../hotdog-nothotdog/train/nothotdog/99201.jpg</td>\n",
       "      <td>1</td>\n",
       "    </tr>\n",
       "    <tr>\n",
       "      <th>4239</th>\n",
       "      <td>../hotdog-nothotdog/train/nothotdog/99604.jpg</td>\n",
       "      <td>1</td>\n",
       "    </tr>\n",
       "    <tr>\n",
       "      <th>4240</th>\n",
       "      <td>../hotdog-nothotdog/train/nothotdog/99890.jpg</td>\n",
       "      <td>1</td>\n",
       "    </tr>\n",
       "    <tr>\n",
       "      <th>4241</th>\n",
       "      <td>../hotdog-nothotdog/train/nothotdog/99934.jpg</td>\n",
       "      <td>1</td>\n",
       "    </tr>\n",
       "  </tbody>\n",
       "</table>\n",
       "<p>4242 rows × 2 columns</p>\n",
       "</div>"
      ],
      "text/plain": [
       "                                          file_path  label\n",
       "0            ../hotdog-nothotdog/train/hotdog/1.jpg      0\n",
       "1           ../hotdog-nothotdog/train/hotdog/10.jpg      0\n",
       "2          ../hotdog-nothotdog/train/hotdog/100.jpg      0\n",
       "3         ../hotdog-nothotdog/train/hotdog/1000.jpg      0\n",
       "4      ../hotdog-nothotdog/train/hotdog/1000288.jpg      0\n",
       "...                                             ...    ...\n",
       "4237  ../hotdog-nothotdog/train/nothotdog/99136.jpg      1\n",
       "4238  ../hotdog-nothotdog/train/nothotdog/99201.jpg      1\n",
       "4239  ../hotdog-nothotdog/train/nothotdog/99604.jpg      1\n",
       "4240  ../hotdog-nothotdog/train/nothotdog/99890.jpg      1\n",
       "4241  ../hotdog-nothotdog/train/nothotdog/99934.jpg      1\n",
       "\n",
       "[4242 rows x 2 columns]"
      ]
     },
     "execution_count": 52,
     "metadata": {},
     "output_type": "execute_result"
    }
   ],
   "source": [
    "train_df"
   ]
  },
  {
   "cell_type": "code",
   "execution_count": 53,
   "metadata": {
    "colab": {
     "base_uri": "https://localhost:8080/"
    },
    "id": "aNl7DviJMU-6",
    "outputId": "50e4580e-79a6-4262-bc76-0afb7791ddfc"
   },
   "outputs": [
    {
     "name": "stdout",
     "output_type": "stream",
     "text": [
      "Found 4242 files belonging to 2 classes.\n",
      "Using 3394 files for training.\n",
      "Found 4242 files belonging to 2 classes.\n",
      "Using 848 files for validation.\n"
     ]
    }
   ],
   "source": [
    "train_ds = image_dataset_from_directory(\n",
    "    '../hotdog-nothotdog/train',\n",
    "    labels='inferred',\n",
    "    label_mode='binary',\n",
    "    image_size=[224, 224],\n",
    "    interpolation='nearest',\n",
    "    batch_size=32,\n",
    "    subset = 'training',\n",
    "    seed=123,\n",
    "    validation_split=0.2,\n",
    "    shuffle=True,\n",
    ").map(lambda x,y: (x/255, y))\n",
    "\n",
    "\n",
    "valid_ds = image_dataset_from_directory(\n",
    "    '../hotdog-nothotdog/train',\n",
    "    labels='inferred',\n",
    "    label_mode='binary',\n",
    "    image_size=[224, 224],\n",
    "    interpolation='nearest',\n",
    "    batch_size=32,\n",
    "    subset = 'validation',\n",
    "    seed=123,\n",
    "    validation_split=0.2,\n",
    "    shuffle=True,\n",
    ").map(lambda x,y: (x/255, y))\n"
   ]
  },
  {
   "cell_type": "code",
   "execution_count": 54,
   "metadata": {},
   "outputs": [],
   "source": [
    "conv_base = VGG16(\n",
    "    weights='imagenet',\n",
    "    include_top=False\n",
    ")\n",
    "\n",
    "for layer in conv_base.layers:\n",
    "    layer.trainable = False"
   ]
  },
  {
   "cell_type": "code",
   "execution_count": 55,
   "metadata": {},
   "outputs": [
    {
     "name": "stderr",
     "output_type": "stream",
     "text": [
      "/opt/anaconda3/lib/python3.11/site-packages/keras/src/layers/preprocessing/tf_data_layer.py:18: UserWarning: Do not pass an `input_shape`/`input_dim` argument to a layer. When using Sequential models, prefer using an `Input(shape)` object as the first layer in the model instead.\n",
      "  super().__init__(**kwargs)\n"
     ]
    }
   ],
   "source": [
    "data_aug = keras.models.Sequential([\n",
    "    RandomFlip('horizontal_and_vertical', input_shape=(224, 224, 3)),\n",
    "    RandomRotation(0.2),\n",
    "    RandomZoom(height_factor=(-0.2, 0.2), width_factor=(-0.2, 0.2)),\n",
    "])"
   ]
  },
  {
   "cell_type": "code",
   "execution_count": 56,
   "metadata": {},
   "outputs": [],
   "source": [
    "inputs = keras.Input(shape=(224, 224, 3))\n",
    "x = data_aug(inputs)\n",
    "# Only necessary since we did a data augmentation step!\n",
    "x = keras.applications.vgg16.preprocess_input(x)\n",
    "x = conv_base(x)\n",
    "x = Flatten()(x)\n",
    "x = Dense(16, activation='relu')(x)\n",
    "x = Dropout(0.5)(x)\n",
    "outputs = Dense(1, activation='sigmoid')(x)\n",
    "\n",
    "model_pret = keras.Model(inputs, outputs)"
   ]
  },
  {
   "cell_type": "code",
   "execution_count": 57,
   "metadata": {},
   "outputs": [],
   "source": [
    "model_pret.compile(\n",
    "    loss='binary_crossentropy',\n",
    "    optimizer='rmsprop',\n",
    "    metrics=['acc']\n",
    ")"
   ]
  },
  {
   "cell_type": "code",
   "execution_count": 58,
   "metadata": {},
   "outputs": [],
   "source": [
    "# hist_pret = model_pret.fit(train_ds, validation_data=valid_ds, epochs=1)"
   ]
  },
  {
   "cell_type": "code",
   "execution_count": 75,
   "metadata": {
    "id": "lr7_kWtpVMcG"
   },
   "outputs": [],
   "source": [
    "# Define the input shape\n",
    "input_shape = (224, 224, 3)\n",
    "\n",
    "model = keras.models.Sequential([\n",
    "    # Input layer with specified shape\n",
    "    Input(shape=input_shape),\n",
    "    # First convolutional layer\n",
    "    Conv2D(32, (3, 3), activation='relu'),\n",
    "    MaxPooling2D(pool_size=(2, 2)),\n",
    "    # Data augmentation layers\n",
    "    RandomFlip('horizontal_and_vertical'),\n",
    "    RandomRotation(0.3),\n",
    "    RandomZoom(height_factor=(-0.2, 0.2), width_factor=(-0.2, 0.2)),\n",
    "    # Second convolutional layer\n",
    "    Conv2D(32, 3, activation='relu'),\n",
    "    MaxPooling2D(2),\n",
    "    # Third convolutional layer\n",
    "    Conv2D(32, 3, activation='relu'),\n",
    "    MaxPooling2D(2),\n",
    "    # Flatten layer to concert 2D feature maps to 1D feature vectors\n",
    "    Flatten(),\n",
    "    # Fully connected layer with 16 neurons\n",
    "    Dense(16, activation='relu'),\n",
    "    # Dropout layer to prevent overfitting\n",
    "    Dropout(0.5),\n",
    "    # Output layer\n",
    "    Dense(1, activation='sigmoid')\n",
    "])\n",
    "\n",
    "model.compile(\n",
    "    loss='binary_crossentropy',\n",
    "    optimizer='adam',\n",
    "    metrics=['acc']\n",
    ")"
   ]
  },
  {
   "cell_type": "code",
   "execution_count": 76,
   "metadata": {
    "colab": {
     "base_uri": "https://localhost:8080/"
    },
    "id": "nHL5wFm5CX0Y",
    "outputId": "7d91956b-4638-423b-e3b3-7e854281fe62"
   },
   "outputs": [
    {
     "name": "stdout",
     "output_type": "stream",
     "text": [
      "Epoch 1/50\n",
      "\u001b[1m107/107\u001b[0m \u001b[32m━━━━━━━━━━━━━━━━━━━━\u001b[0m\u001b[37m\u001b[0m \u001b[1m113s\u001b[0m 1s/step - acc: 0.5176 - loss: 0.6917 - val_acc: 0.4965 - val_loss: 0.6916\n",
      "Epoch 2/50\n",
      "\u001b[1m107/107\u001b[0m \u001b[32m━━━━━━━━━━━━━━━━━━━━\u001b[0m\u001b[37m\u001b[0m \u001b[1m106s\u001b[0m 989ms/step - acc: 0.5036 - loss: 0.6931 - val_acc: 0.6356 - val_loss: 0.6233\n",
      "Epoch 3/50\n",
      "\u001b[1m107/107\u001b[0m \u001b[32m━━━━━━━━━━━━━━━━━━━━\u001b[0m\u001b[37m\u001b[0m \u001b[1m105s\u001b[0m 977ms/step - acc: 0.6175 - loss: 0.6768 - val_acc: 0.6344 - val_loss: 0.6348\n",
      "Epoch 4/50\n",
      "\u001b[1m107/107\u001b[0m \u001b[32m━━━━━━━━━━━━━━━━━━━━\u001b[0m\u001b[37m\u001b[0m \u001b[1m105s\u001b[0m 978ms/step - acc: 0.6149 - loss: 0.6523 - val_acc: 0.6627 - val_loss: 0.6052\n",
      "Epoch 5/50\n",
      "\u001b[1m107/107\u001b[0m \u001b[32m━━━━━━━━━━━━━━━━━━━━\u001b[0m\u001b[37m\u001b[0m \u001b[1m105s\u001b[0m 983ms/step - acc: 0.6343 - loss: 0.6427 - val_acc: 0.6851 - val_loss: 0.5978\n",
      "Epoch 6/50\n",
      "\u001b[1m107/107\u001b[0m \u001b[32m━━━━━━━━━━━━━━━━━━━━\u001b[0m\u001b[37m\u001b[0m \u001b[1m107s\u001b[0m 1s/step - acc: 0.6223 - loss: 0.6377 - val_acc: 0.6969 - val_loss: 0.5871\n",
      "Epoch 7/50\n",
      "\u001b[1m107/107\u001b[0m \u001b[32m━━━━━━━━━━━━━━━━━━━━\u001b[0m\u001b[37m\u001b[0m \u001b[1m108s\u001b[0m 1s/step - acc: 0.6473 - loss: 0.6275 - val_acc: 0.6875 - val_loss: 0.5881\n",
      "Epoch 8/50\n",
      "\u001b[1m107/107\u001b[0m \u001b[32m━━━━━━━━━━━━━━━━━━━━\u001b[0m\u001b[37m\u001b[0m \u001b[1m106s\u001b[0m 989ms/step - acc: 0.6240 - loss: 0.6445 - val_acc: 0.6875 - val_loss: 0.5879\n",
      "Epoch 9/50\n",
      "\u001b[1m107/107\u001b[0m \u001b[32m━━━━━━━━━━━━━━━━━━━━\u001b[0m\u001b[37m\u001b[0m \u001b[1m104s\u001b[0m 968ms/step - acc: 0.6480 - loss: 0.6262 - val_acc: 0.6781 - val_loss: 0.5896\n",
      "Epoch 10/50\n",
      "\u001b[1m107/107\u001b[0m \u001b[32m━━━━━━━━━━━━━━━━━━━━\u001b[0m\u001b[37m\u001b[0m \u001b[1m105s\u001b[0m 982ms/step - acc: 0.6317 - loss: 0.6344 - val_acc: 0.6910 - val_loss: 0.5823\n",
      "Epoch 11/50\n",
      "\u001b[1m107/107\u001b[0m \u001b[32m━━━━━━━━━━━━━━━━━━━━\u001b[0m\u001b[37m\u001b[0m \u001b[1m106s\u001b[0m 990ms/step - acc: 0.6588 - loss: 0.6232 - val_acc: 0.6710 - val_loss: 0.6072\n",
      "Epoch 12/50\n",
      "\u001b[1m107/107\u001b[0m \u001b[32m━━━━━━━━━━━━━━━━━━━━\u001b[0m\u001b[37m\u001b[0m \u001b[1m107s\u001b[0m 1s/step - acc: 0.5841 - loss: 0.6700 - val_acc: 0.6969 - val_loss: 0.5785\n",
      "Epoch 13/50\n",
      "\u001b[1m107/107\u001b[0m \u001b[32m━━━━━━━━━━━━━━━━━━━━\u001b[0m\u001b[37m\u001b[0m \u001b[1m105s\u001b[0m 980ms/step - acc: 0.6625 - loss: 0.6260 - val_acc: 0.7040 - val_loss: 0.5782\n",
      "Epoch 14/50\n",
      "\u001b[1m107/107\u001b[0m \u001b[32m━━━━━━━━━━━━━━━━━━━━\u001b[0m\u001b[37m\u001b[0m \u001b[1m152s\u001b[0m 1s/step - acc: 0.6906 - loss: 0.6136 - val_acc: 0.6981 - val_loss: 0.5734\n",
      "Epoch 15/50\n",
      "\u001b[1m107/107\u001b[0m \u001b[32m━━━━━━━━━━━━━━━━━━━━\u001b[0m\u001b[37m\u001b[0m \u001b[1m106s\u001b[0m 986ms/step - acc: 0.6652 - loss: 0.5953 - val_acc: 0.6981 - val_loss: 0.5858\n",
      "Epoch 16/50\n",
      "\u001b[1m107/107\u001b[0m \u001b[32m━━━━━━━━━━━━━━━━━━━━\u001b[0m\u001b[37m\u001b[0m \u001b[1m106s\u001b[0m 984ms/step - acc: 0.6468 - loss: 0.6197 - val_acc: 0.6698 - val_loss: 0.5945\n",
      "Epoch 17/50\n",
      "\u001b[1m107/107\u001b[0m \u001b[32m━━━━━━━━━━━━━━━━━━━━\u001b[0m\u001b[37m\u001b[0m \u001b[1m118s\u001b[0m 1s/step - acc: 0.6587 - loss: 0.6232 - val_acc: 0.7005 - val_loss: 0.5693\n",
      "Epoch 18/50\n",
      "\u001b[1m107/107\u001b[0m \u001b[32m━━━━━━━━━━━━━━━━━━━━\u001b[0m\u001b[37m\u001b[0m \u001b[1m107s\u001b[0m 993ms/step - acc: 0.6769 - loss: 0.5939 - val_acc: 0.7075 - val_loss: 0.5665\n",
      "Epoch 19/50\n",
      "\u001b[1m107/107\u001b[0m \u001b[32m━━━━━━━━━━━━━━━━━━━━\u001b[0m\u001b[37m\u001b[0m \u001b[1m107s\u001b[0m 995ms/step - acc: 0.6694 - loss: 0.6016 - val_acc: 0.7040 - val_loss: 0.5608\n",
      "Epoch 20/50\n",
      "\u001b[1m107/107\u001b[0m \u001b[32m━━━━━━━━━━━━━━━━━━━━\u001b[0m\u001b[37m\u001b[0m \u001b[1m104s\u001b[0m 969ms/step - acc: 0.6695 - loss: 0.6037 - val_acc: 0.7052 - val_loss: 0.5555\n",
      "Epoch 21/50\n",
      "\u001b[1m107/107\u001b[0m \u001b[32m━━━━━━━━━━━━━━━━━━━━\u001b[0m\u001b[37m\u001b[0m \u001b[1m105s\u001b[0m 977ms/step - acc: 0.6987 - loss: 0.5894 - val_acc: 0.7170 - val_loss: 0.5471\n",
      "Epoch 22/50\n",
      "\u001b[1m107/107\u001b[0m \u001b[32m━━━━━━━━━━━━━━━━━━━━\u001b[0m\u001b[37m\u001b[0m \u001b[1m103s\u001b[0m 963ms/step - acc: 0.6973 - loss: 0.5734 - val_acc: 0.7182 - val_loss: 0.5478\n",
      "Epoch 23/50\n",
      "\u001b[1m107/107\u001b[0m \u001b[32m━━━━━━━━━━━━━━━━━━━━\u001b[0m\u001b[37m\u001b[0m \u001b[1m104s\u001b[0m 970ms/step - acc: 0.6767 - loss: 0.5890 - val_acc: 0.7311 - val_loss: 0.5397\n",
      "Epoch 24/50\n",
      "\u001b[1m107/107\u001b[0m \u001b[32m━━━━━━━━━━━━━━━━━━━━\u001b[0m\u001b[37m\u001b[0m \u001b[1m104s\u001b[0m 970ms/step - acc: 0.6950 - loss: 0.5775 - val_acc: 0.7158 - val_loss: 0.5277\n",
      "Epoch 25/50\n",
      "\u001b[1m107/107\u001b[0m \u001b[32m━━━━━━━━━━━━━━━━━━━━\u001b[0m\u001b[37m\u001b[0m \u001b[1m105s\u001b[0m 979ms/step - acc: 0.6988 - loss: 0.5636 - val_acc: 0.7382 - val_loss: 0.5331\n",
      "Epoch 26/50\n",
      "\u001b[1m107/107\u001b[0m \u001b[32m━━━━━━━━━━━━━━━━━━━━\u001b[0m\u001b[37m\u001b[0m \u001b[1m104s\u001b[0m 970ms/step - acc: 0.6879 - loss: 0.5786 - val_acc: 0.7252 - val_loss: 0.5254\n",
      "Epoch 27/50\n",
      "\u001b[1m107/107\u001b[0m \u001b[32m━━━━━━━━━━━━━━━━━━━━\u001b[0m\u001b[37m\u001b[0m \u001b[1m104s\u001b[0m 966ms/step - acc: 0.6986 - loss: 0.5649 - val_acc: 0.7394 - val_loss: 0.5179\n",
      "Epoch 28/50\n",
      "\u001b[1m107/107\u001b[0m \u001b[32m━━━━━━━━━━━━━━━━━━━━\u001b[0m\u001b[37m\u001b[0m \u001b[1m104s\u001b[0m 967ms/step - acc: 0.6914 - loss: 0.5517 - val_acc: 0.7182 - val_loss: 0.5302\n",
      "Epoch 29/50\n",
      "\u001b[1m107/107\u001b[0m \u001b[32m━━━━━━━━━━━━━━━━━━━━\u001b[0m\u001b[37m\u001b[0m \u001b[1m103s\u001b[0m 962ms/step - acc: 0.6414 - loss: 0.6239 - val_acc: 0.7123 - val_loss: 0.5350\n",
      "Epoch 30/50\n",
      "\u001b[1m107/107\u001b[0m \u001b[32m━━━━━━━━━━━━━━━━━━━━\u001b[0m\u001b[37m\u001b[0m \u001b[1m103s\u001b[0m 962ms/step - acc: 0.7111 - loss: 0.5801 - val_acc: 0.7476 - val_loss: 0.5226\n",
      "Epoch 31/50\n",
      "\u001b[1m107/107\u001b[0m \u001b[32m━━━━━━━━━━━━━━━━━━━━\u001b[0m\u001b[37m\u001b[0m \u001b[1m103s\u001b[0m 963ms/step - acc: 0.7010 - loss: 0.5666 - val_acc: 0.7630 - val_loss: 0.5272\n",
      "Epoch 32/50\n",
      "\u001b[1m107/107\u001b[0m \u001b[32m━━━━━━━━━━━━━━━━━━━━\u001b[0m\u001b[37m\u001b[0m \u001b[1m103s\u001b[0m 964ms/step - acc: 0.7265 - loss: 0.5489 - val_acc: 0.7547 - val_loss: 0.5010\n",
      "Epoch 33/50\n",
      "\u001b[1m107/107\u001b[0m \u001b[32m━━━━━━━━━━━━━━━━━━━━\u001b[0m\u001b[37m\u001b[0m \u001b[1m106s\u001b[0m 986ms/step - acc: 0.7192 - loss: 0.5413 - val_acc: 0.7441 - val_loss: 0.5248\n",
      "Epoch 34/50\n",
      "\u001b[1m107/107\u001b[0m \u001b[32m━━━━━━━━━━━━━━━━━━━━\u001b[0m\u001b[37m\u001b[0m \u001b[1m104s\u001b[0m 964ms/step - acc: 0.7153 - loss: 0.5509 - val_acc: 0.7488 - val_loss: 0.5008\n",
      "Epoch 35/50\n",
      "\u001b[1m107/107\u001b[0m \u001b[32m━━━━━━━━━━━━━━━━━━━━\u001b[0m\u001b[37m\u001b[0m \u001b[1m106s\u001b[0m 991ms/step - acc: 0.7239 - loss: 0.5346 - val_acc: 0.7524 - val_loss: 0.4971\n",
      "Epoch 36/50\n",
      "\u001b[1m107/107\u001b[0m \u001b[32m━━━━━━━━━━━━━━━━━━━━\u001b[0m\u001b[37m\u001b[0m \u001b[1m104s\u001b[0m 970ms/step - acc: 0.7225 - loss: 0.5413 - val_acc: 0.7429 - val_loss: 0.5036\n",
      "Epoch 37/50\n",
      "\u001b[1m107/107\u001b[0m \u001b[32m━━━━━━━━━━━━━━━━━━━━\u001b[0m\u001b[37m\u001b[0m \u001b[1m110s\u001b[0m 1s/step - acc: 0.7261 - loss: 0.5337 - val_acc: 0.7441 - val_loss: 0.5133\n",
      "Epoch 38/50\n",
      "\u001b[1m107/107\u001b[0m \u001b[32m━━━━━━━━━━━━━━━━━━━━\u001b[0m\u001b[37m\u001b[0m \u001b[1m104s\u001b[0m 967ms/step - acc: 0.7010 - loss: 0.5567 - val_acc: 0.7441 - val_loss: 0.5049\n",
      "Epoch 39/50\n",
      "\u001b[1m107/107\u001b[0m \u001b[32m━━━━━━━━━━━━━━━━━━━━\u001b[0m\u001b[37m\u001b[0m \u001b[1m105s\u001b[0m 980ms/step - acc: 0.7335 - loss: 0.5360 - val_acc: 0.7559 - val_loss: 0.5206\n",
      "Epoch 40/50\n",
      "\u001b[1m107/107\u001b[0m \u001b[32m━━━━━━━━━━━━━━━━━━━━\u001b[0m\u001b[37m\u001b[0m \u001b[1m106s\u001b[0m 983ms/step - acc: 0.7275 - loss: 0.5399 - val_acc: 0.7512 - val_loss: 0.5138\n"
     ]
    }
   ],
   "source": [
    "early_stopping = EarlyStopping(monitor='val_loss', patience=5)\n",
    "hist = model.fit(\n",
    "    train_ds, \n",
    "    validation_data=valid_ds, \n",
    "    epochs=50,\n",
    "    callbacks=[early_stopping]\n",
    "    )"
   ]
  },
  {
   "cell_type": "code",
   "execution_count": 78,
   "metadata": {
    "id": "CXgychyFuWLf"
   },
   "outputs": [],
   "source": [
    "model.save('../Models/yc_model_k.keras')"
   ]
  },
  {
   "cell_type": "code",
   "execution_count": null,
   "metadata": {
    "id": "eKFfOzYkuNWM"
   },
   "outputs": [],
   "source": []
  },
  {
   "cell_type": "code",
   "execution_count": 77,
   "metadata": {
    "colab": {
     "base_uri": "https://localhost:8080/",
     "height": 522
    },
    "id": "agJG_uyhPaOf",
    "outputId": "24d15869-8f69-4453-9582-30faaabfc718"
   },
   "outputs": [
    {
     "data": {
      "image/png": "[encoded data removed]",
      "text/plain": [
       "<Figure size 1200x600 with 1 Axes>"
      ]
     },
     "metadata": {},
     "output_type": "display_data"
    }
   ],
   "source": [
    "plt.figure(figsize=(12, 6))\n",
    "plt.plot(hist.history['loss'], c='navy', label='Training Loss')\n",
    "plt.plot(hist.history['val_loss'], c='skyblue', label='Validation Loss')\n",
    "plt.legend();"
   ]
  },
  {
   "cell_type": "code",
   "execution_count": null,
   "metadata": {
    "id": "P7r-4V3qRYI2"
   },
   "outputs": [],
   "source": [
    "model.save(\"/content/yc_model.keras\")"
   ]
  },
  {
   "cell_type": "code",
   "execution_count": null,
   "metadata": {
    "id": "9HASLFoXR7Ro"
   },
   "outputs": [],
   "source": [
    "model_json = model.to_json()\n",
    "\n",
    "# Save model architecture to a JSON file\n",
    "with open(\"/content/model_architecture.json\", \"w\") as json_file:\n",
    "    json_file.write(model_json)"
   ]
  },
  {
   "cell_type": "code",
   "execution_count": null,
   "metadata": {
    "id": "l7LhatfBaLIw"
   },
   "outputs": [],
   "source": [
    "import pickle"
   ]
  },
  {
   "cell_type": "code",
   "execution_count": null,
   "metadata": {
    "id": "25Hgm8gUZ4vw"
   },
   "outputs": [],
   "source": [
    "with open('/content/yc_model.pkl', 'wb') as f:\n",
    "    pickle.dump(model, f)"
   ]
  },
  {
   "cell_type": "markdown",
   "metadata": {},
   "source": [
    "## Testing"
   ]
  },
  {
   "cell_type": "code",
   "execution_count": 80,
   "metadata": {},
   "outputs": [],
   "source": [
    "from tensorflow.keras.preprocessing.image import img_to_array, load_img"
   ]
  },
  {
   "cell_type": "code",
   "execution_count": 84,
   "metadata": {},
   "outputs": [
    {
     "name": "stdout",
     "output_type": "stream",
     "text": [
      "\u001b[1m1/1\u001b[0m \u001b[32m━━━━━━━━━━━━━━━━━━━━\u001b[0m\u001b[37m\u001b[0m \u001b[1m0s\u001b[0m 55ms/step\n"
     ]
    },
    {
     "data": {
      "text/plain": [
       "0.7710672"
      ]
     },
     "execution_count": 84,
     "metadata": {},
     "output_type": "execute_result"
    }
   ],
   "source": [
    "test_pic = '../hotdog-nothotdog/train/nothotdog'\n",
    "\n",
    "def preprocess_image(image):\n",
    "    # Resize the image to match the input size of your CNN model\n",
    "    image = image.resize((224, 224))  # Assuming your model expects 224x224 input\n",
    "    # Convert the image to a numpy array\n",
    "    image_array = img_to_array(image)\n",
    "    # Normalize the pixel values to be in the range [0, 1]\n",
    "    image_array = image_array / 255.0\n",
    "    # Expand the dimensions to create a batch of size 1\n",
    "    image_array = np.expand_dims(image_array, axis=0)\n",
    "    return image_array\n",
    "\n",
    "\n",
    "\n",
    "img_path = os.path.join(test_pic, '94.jpg')\n",
    "img = load_img(img_path, target_size=(224, 224)) \n",
    "\n",
    "preprocessed_image = preprocess_image(img)\n",
    "\n",
    "pred = model.predict(preprocessed_image)\n",
    "\n",
    "pred[0][0]"
   ]
  },
  {
   "cell_type": "code",
   "execution_count": null,
   "metadata": {},
   "outputs": [],
   "source": []
  }
 ],
 "metadata": {
  "accelerator": "GPU",
  "colab": {
   "gpuType": "V100",
   "machine_shape": "hm",
   "provenance": []
  },
  "kernelspec": {
   "display_name": "Python 3 (ipykernel)",
   "language": "python",
   "name": "python3"
  },
  "language_info": {
   "codemirror_mode": {
    "name": "ipython",
    "version": 3
   },
   "file_extension": ".py",
   "mimetype": "text/x-python",
   "name": "python",
   "nbconvert_exporter": "python",
   "pygments_lexer": "ipython3",
   "version": "3.11.7"
  }
 },
 "nbformat": 4,
 "nbformat_minor": 4
}
